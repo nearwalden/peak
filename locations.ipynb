{
 "cells": [
  {
   "cell_type": "code",
   "execution_count": 1,
   "metadata": {},
   "outputs": [],
   "source": [
    "import importlib"
   ]
  },
  {
   "cell_type": "code",
   "execution_count": 2,
   "metadata": {},
   "outputs": [],
   "source": [
    "import locations"
   ]
  },
  {
   "cell_type": "code",
   "execution_count": 88,
   "metadata": {},
   "outputs": [],
   "source": [
    "import clean"
   ]
  },
  {
   "cell_type": "code",
   "execution_count": 4,
   "metadata": {},
   "outputs": [],
   "source": [
    "import files"
   ]
  },
  {
   "cell_type": "code",
   "execution_count": 5,
   "metadata": {},
   "outputs": [],
   "source": [
    "import analyze"
   ]
  },
  {
   "cell_type": "code",
   "execution_count": 6,
   "metadata": {},
   "outputs": [],
   "source": [
    "import pandas as p"
   ]
  },
  {
   "cell_type": "code",
   "execution_count": 118,
   "metadata": {},
   "outputs": [
    {
     "data": {
      "text/plain": [
       "<module 'files' from '/mnt/c/Users/nearw/gitcode/peak/files.py'>"
      ]
     },
     "execution_count": 118,
     "metadata": {},
     "output_type": "execute_result"
    }
   ],
   "source": [
    "importlib.reload(files)"
   ]
  },
  {
   "cell_type": "code",
   "execution_count": 17,
   "metadata": {},
   "outputs": [
    {
     "name": "stdout",
     "output_type": "stream",
     "text": [
      "Wrote 81 records for 1\n",
      "Wrote 81 records for 2\n",
      "Wrote 81 records for 3\n",
      "Wrote 81 records for 4\n",
      "Wrote 81 records for 5\n"
     ]
    },
    {
     "data": {
      "text/plain": [
       "True"
      ]
     },
     "execution_count": 17,
     "metadata": {},
     "output_type": "execute_result"
    }
   ],
   "source": [
    "clean.witt_global()"
   ]
  },
  {
   "cell_type": "code",
   "execution_count": 92,
   "metadata": {},
   "outputs": [],
   "source": [
    "a = analyze.merge_bmgf_un()"
   ]
  },
  {
   "cell_type": "code",
   "execution_count": 23,
   "metadata": {},
   "outputs": [],
   "source": [
    "a = analyze.compare_all()"
   ]
  },
  {
   "cell_type": "code",
   "execution_count": 24,
   "metadata": {},
   "outputs": [
    {
     "data": {
      "text/html": [
       "<div>\n",
       "<style scoped>\n",
       "    .dataframe tbody tr th:only-of-type {\n",
       "        vertical-align: middle;\n",
       "    }\n",
       "\n",
       "    .dataframe tbody tr th {\n",
       "        vertical-align: top;\n",
       "    }\n",
       "\n",
       "    .dataframe thead th {\n",
       "        text-align: right;\n",
       "    }\n",
       "</style>\n",
       "<table border=\"1\" class=\"dataframe\">\n",
       "  <thead>\n",
       "    <tr style=\"text-align: right;\">\n",
       "      <th></th>\n",
       "      <th>peak</th>\n",
       "      <th>peak_year</th>\n",
       "      <th>manyears</th>\n",
       "      <th>mean</th>\n",
       "    </tr>\n",
       "  </thead>\n",
       "  <tbody>\n",
       "    <tr>\n",
       "      <th>BMGF-SLOWER</th>\n",
       "      <td>1.358034e+10</td>\n",
       "      <td>2100</td>\n",
       "      <td>867.904351</td>\n",
       "      <td>1.071487e+10</td>\n",
       "    </tr>\n",
       "    <tr>\n",
       "      <th>BMGF-REFERENCE</th>\n",
       "      <td>9.732923e+09</td>\n",
       "      <td>2064</td>\n",
       "      <td>747.605677</td>\n",
       "      <td>9.229700e+09</td>\n",
       "    </tr>\n",
       "    <tr>\n",
       "      <th>BMGF-FASTER</th>\n",
       "      <td>9.315209e+09</td>\n",
       "      <td>2055</td>\n",
       "      <td>709.511864</td>\n",
       "      <td>8.759406e+09</td>\n",
       "    </tr>\n",
       "    <tr>\n",
       "      <th>BMGF-SDG</th>\n",
       "      <td>8.982655e+09</td>\n",
       "      <td>2050</td>\n",
       "      <td>677.098450</td>\n",
       "      <td>8.359240e+09</td>\n",
       "    </tr>\n",
       "    <tr>\n",
       "      <th>UN-high</th>\n",
       "      <td>1.560037e+10</td>\n",
       "      <td>2100</td>\n",
       "      <td>938.754677</td>\n",
       "      <td>1.158956e+10</td>\n",
       "    </tr>\n",
       "    <tr>\n",
       "      <th>UN-medium</th>\n",
       "      <td>1.087539e+10</td>\n",
       "      <td>2100</td>\n",
       "      <td>799.098889</td>\n",
       "      <td>9.865418e+09</td>\n",
       "    </tr>\n",
       "    <tr>\n",
       "      <th>UN-low</th>\n",
       "      <td>8.923228e+09</td>\n",
       "      <td>2054</td>\n",
       "      <td>681.666497</td>\n",
       "      <td>8.415636e+09</td>\n",
       "    </tr>\n",
       "    <tr>\n",
       "      <th>Witt-1</th>\n",
       "      <td>8.628447e+09</td>\n",
       "      <td>2055</td>\n",
       "      <td>664.987443</td>\n",
       "      <td>8.209722e+09</td>\n",
       "    </tr>\n",
       "    <tr>\n",
       "      <th>Witt-2</th>\n",
       "      <td>9.712457e+09</td>\n",
       "      <td>2073</td>\n",
       "      <td>747.128590</td>\n",
       "      <td>9.223810e+09</td>\n",
       "    </tr>\n",
       "    <tr>\n",
       "      <th>Witt-3</th>\n",
       "      <td>1.357340e+10</td>\n",
       "      <td>2100</td>\n",
       "      <td>884.404289</td>\n",
       "      <td>1.091857e+10</td>\n",
       "    </tr>\n",
       "    <tr>\n",
       "      <th>Witt-4</th>\n",
       "      <td>9.873400e+09</td>\n",
       "      <td>2080</td>\n",
       "      <td>755.286958</td>\n",
       "      <td>9.324530e+09</td>\n",
       "    </tr>\n",
       "    <tr>\n",
       "      <th>Witt-5</th>\n",
       "      <td>8.629870e+09</td>\n",
       "      <td>2055</td>\n",
       "      <td>665.443843</td>\n",
       "      <td>8.215356e+09</td>\n",
       "    </tr>\n",
       "  </tbody>\n",
       "</table>\n",
       "</div>"
      ],
      "text/plain": [
       "                        peak  peak_year    manyears          mean\n",
       "BMGF-SLOWER     1.358034e+10       2100  867.904351  1.071487e+10\n",
       "BMGF-REFERENCE  9.732923e+09       2064  747.605677  9.229700e+09\n",
       "BMGF-FASTER     9.315209e+09       2055  709.511864  8.759406e+09\n",
       "BMGF-SDG        8.982655e+09       2050  677.098450  8.359240e+09\n",
       "UN-high         1.560037e+10       2100  938.754677  1.158956e+10\n",
       "UN-medium       1.087539e+10       2100  799.098889  9.865418e+09\n",
       "UN-low          8.923228e+09       2054  681.666497  8.415636e+09\n",
       "Witt-1          8.628447e+09       2055  664.987443  8.209722e+09\n",
       "Witt-2          9.712457e+09       2073  747.128590  9.223810e+09\n",
       "Witt-3          1.357340e+10       2100  884.404289  1.091857e+10\n",
       "Witt-4          9.873400e+09       2080  755.286958  9.324530e+09\n",
       "Witt-5          8.629870e+09       2055  665.443843  8.215356e+09"
      ]
     },
     "execution_count": 24,
     "metadata": {},
     "output_type": "execute_result"
    }
   ],
   "source": [
    "a"
   ]
  },
  {
   "cell_type": "code",
   "execution_count": 100,
   "metadata": {},
   "outputs": [
    {
     "name": "stdout",
     "output_type": "stream",
     "text": [
      "Wrote 81 records for SLOWER\n",
      "Wrote 81 records for REFERENCE\n",
      "Wrote 81 records for FASTER\n",
      "Wrote 81 records for SDG\n"
     ]
    },
    {
     "data": {
      "text/plain": [
       "True"
      ]
     },
     "execution_count": 100,
     "metadata": {},
     "output_type": "execute_result"
    }
   ],
   "source": [
    "clean.bmgf_countries()"
   ]
  },
  {
   "cell_type": "code",
   "execution_count": 119,
   "metadata": {},
   "outputs": [
    {
     "name": "stdout",
     "output_type": "stream",
     "text": [
      "Wrote 81 records for high\n",
      "Wrote 81 records for medium\n",
      "Wrote 81 records for low\n"
     ]
    },
    {
     "data": {
      "text/plain": [
       "True"
      ]
     },
     "execution_count": 119,
     "metadata": {},
     "output_type": "execute_result"
    }
   ],
   "source": [
    "clean.un_countries()"
   ]
  },
  {
   "cell_type": "code",
   "execution_count": 70,
   "metadata": {},
   "outputs": [],
   "source": [
    "us = locations.un_subregion_names()"
   ]
  },
  {
   "cell_type": "code",
   "execution_count": 68,
   "metadata": {},
   "outputs": [],
   "source": [
    "b = locations.bmgf_location_names()"
   ]
  },
  {
   "cell_type": "code",
   "execution_count": 87,
   "metadata": {},
   "outputs": [
    {
     "data": {
      "text/plain": [
       "set()"
      ]
     },
     "execution_count": 87,
     "metadata": {},
     "output_type": "execute_result"
    }
   ],
   "source": [
    "set(ur).intersection(set(wn))"
   ]
  },
  {
   "cell_type": "code",
   "execution_count": null,
   "metadata": {},
   "outputs": [],
   "source": []
  }
 ],
 "metadata": {
  "kernelspec": {
   "display_name": "Python 3",
   "language": "python",
   "name": "python3"
  },
  "language_info": {
   "codemirror_mode": {
    "name": "ipython",
    "version": 3
   },
   "file_extension": ".py",
   "mimetype": "text/x-python",
   "name": "python",
   "nbconvert_exporter": "python",
   "pygments_lexer": "ipython3",
   "version": "3.8.5"
  }
 },
 "nbformat": 4,
 "nbformat_minor": 4
}
