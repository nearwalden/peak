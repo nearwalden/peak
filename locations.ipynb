{
 "cells": [
  {
   "cell_type": "code",
   "execution_count": 1,
   "metadata": {},
   "outputs": [],
   "source": [
    "import importlib"
   ]
  },
  {
   "cell_type": "code",
   "execution_count": 2,
   "metadata": {},
   "outputs": [],
   "source": [
    "import locations"
   ]
  },
  {
   "cell_type": "code",
   "execution_count": 88,
   "metadata": {},
   "outputs": [],
   "source": [
    "import clean"
   ]
  },
  {
   "cell_type": "code",
   "execution_count": 4,
   "metadata": {},
   "outputs": [],
   "source": [
    "import files"
   ]
  },
  {
   "cell_type": "code",
   "execution_count": 5,
   "metadata": {},
   "outputs": [],
   "source": [
    "import analyze"
   ]
  },
  {
   "cell_type": "code",
   "execution_count": 6,
   "metadata": {},
   "outputs": [],
   "source": [
    "import pandas as p"
   ]
  },
  {
   "cell_type": "code",
   "execution_count": 174,
   "metadata": {},
   "outputs": [
    {
     "data": {
      "text/plain": [
       "<module 'clean' from '/mnt/c/Users/nearw/gitcode/peak/clean.py'>"
      ]
     },
     "execution_count": 174,
     "metadata": {},
     "output_type": "execute_result"
    }
   ],
   "source": [
    "importlib.reload(clean)"
   ]
  },
  {
   "cell_type": "code",
   "execution_count": 175,
   "metadata": {},
   "outputs": [
    {
     "name": "stdout",
     "output_type": "stream",
     "text": [
      "Wrote 81 records for 1\n",
      "Wrote 81 records for 2\n",
      "Wrote 81 records for 3\n",
      "Wrote 81 records for 4\n",
      "Wrote 81 records for 5\n"
     ]
    },
    {
     "data": {
      "text/plain": [
       "True"
      ]
     },
     "execution_count": 175,
     "metadata": {},
     "output_type": "execute_result"
    }
   ],
   "source": [
    "clean.witt_countries()"
   ]
  },
  {
   "cell_type": "code",
   "execution_count": 92,
   "metadata": {},
   "outputs": [],
   "source": [
    "a = analyze.merge_bmgf_un()"
   ]
  },
  {
   "cell_type": "code",
   "execution_count": 184,
   "metadata": {},
   "outputs": [
    {
     "data": {
      "text/html": [
       "<div>\n",
       "<style scoped>\n",
       "    .dataframe tbody tr th:only-of-type {\n",
       "        vertical-align: middle;\n",
       "    }\n",
       "\n",
       "    .dataframe tbody tr th {\n",
       "        vertical-align: top;\n",
       "    }\n",
       "\n",
       "    .dataframe thead th {\n",
       "        text-align: right;\n",
       "    }\n",
       "</style>\n",
       "<table border=\"1\" class=\"dataframe\">\n",
       "  <thead>\n",
       "    <tr style=\"text-align: right;\">\n",
       "      <th></th>\n",
       "      <th>peak</th>\n",
       "      <th>peak_year</th>\n",
       "      <th>manyears</th>\n",
       "      <th>mean</th>\n",
       "    </tr>\n",
       "  </thead>\n",
       "  <tbody>\n",
       "    <tr>\n",
       "      <th>BMGF-SLOWER</th>\n",
       "      <td>2.411600e+08</td>\n",
       "      <td>2049</td>\n",
       "      <td>18.232346</td>\n",
       "      <td>2.250907e+08</td>\n",
       "    </tr>\n",
       "    <tr>\n",
       "      <th>BMGF-REFERENCE</th>\n",
       "      <td>2.354907e+08</td>\n",
       "      <td>2043</td>\n",
       "      <td>17.346978</td>\n",
       "      <td>2.141602e+08</td>\n",
       "    </tr>\n",
       "    <tr>\n",
       "      <th>BMGF-FASTER</th>\n",
       "      <td>2.335747e+08</td>\n",
       "      <td>2042</td>\n",
       "      <td>17.117503</td>\n",
       "      <td>2.113272e+08</td>\n",
       "    </tr>\n",
       "    <tr>\n",
       "      <th>BMGF-SDG</th>\n",
       "      <td>2.323997e+08</td>\n",
       "      <td>2041</td>\n",
       "      <td>17.002400</td>\n",
       "      <td>2.099062e+08</td>\n",
       "    </tr>\n",
       "    <tr>\n",
       "      <th>UN-high</th>\n",
       "      <td>2.726930e+08</td>\n",
       "      <td>2100</td>\n",
       "      <td>20.372141</td>\n",
       "      <td>2.515079e+08</td>\n",
       "    </tr>\n",
       "    <tr>\n",
       "      <th>UN-medium</th>\n",
       "      <td>2.296050e+08</td>\n",
       "      <td>2045</td>\n",
       "      <td>17.374590</td>\n",
       "      <td>2.145011e+08</td>\n",
       "    </tr>\n",
       "    <tr>\n",
       "      <th>UN-low</th>\n",
       "      <td>2.186860e+08</td>\n",
       "      <td>2031</td>\n",
       "      <td>14.905220</td>\n",
       "      <td>1.840151e+08</td>\n",
       "    </tr>\n",
       "    <tr>\n",
       "      <th>Witt-1</th>\n",
       "      <td>2.235962e+08</td>\n",
       "      <td>2042</td>\n",
       "      <td>16.878705</td>\n",
       "      <td>2.083791e+08</td>\n",
       "    </tr>\n",
       "    <tr>\n",
       "      <th>Witt-2</th>\n",
       "      <td>2.284335e+08</td>\n",
       "      <td>2046</td>\n",
       "      <td>17.405004</td>\n",
       "      <td>2.148766e+08</td>\n",
       "    </tr>\n",
       "    <tr>\n",
       "      <th>Witt-3</th>\n",
       "      <td>2.522129e+08</td>\n",
       "      <td>2076</td>\n",
       "      <td>19.707658</td>\n",
       "      <td>2.433044e+08</td>\n",
       "    </tr>\n",
       "    <tr>\n",
       "      <th>Witt-4</th>\n",
       "      <td>2.188198e+08</td>\n",
       "      <td>2033</td>\n",
       "      <td>15.540187</td>\n",
       "      <td>1.918542e+08</td>\n",
       "    </tr>\n",
       "    <tr>\n",
       "      <th>Witt-5</th>\n",
       "      <td>2.236255e+08</td>\n",
       "      <td>2042</td>\n",
       "      <td>16.886560</td>\n",
       "      <td>2.084760e+08</td>\n",
       "    </tr>\n",
       "  </tbody>\n",
       "</table>\n",
       "</div>"
      ],
      "text/plain": [
       "                        peak  peak_year   manyears          mean\n",
       "BMGF-SLOWER     2.411600e+08       2049  18.232346  2.250907e+08\n",
       "BMGF-REFERENCE  2.354907e+08       2043  17.346978  2.141602e+08\n",
       "BMGF-FASTER     2.335747e+08       2042  17.117503  2.113272e+08\n",
       "BMGF-SDG        2.323997e+08       2041  17.002400  2.099062e+08\n",
       "UN-high         2.726930e+08       2100  20.372141  2.515079e+08\n",
       "UN-medium       2.296050e+08       2045  17.374590  2.145011e+08\n",
       "UN-low          2.186860e+08       2031  14.905220  1.840151e+08\n",
       "Witt-1          2.235962e+08       2042  16.878705  2.083791e+08\n",
       "Witt-2          2.284335e+08       2046  17.405004  2.148766e+08\n",
       "Witt-3          2.522129e+08       2076  19.707658  2.433044e+08\n",
       "Witt-4          2.188198e+08       2033  15.540187  1.918542e+08\n",
       "Witt-5          2.236255e+08       2042  16.886560  2.084760e+08"
      ]
     },
     "execution_count": 184,
     "metadata": {},
     "output_type": "execute_result"
    }
   ],
   "source": [
    "analyze.compare_all_country('Brazil')"
   ]
  },
  {
   "cell_type": "code",
   "execution_count": 100,
   "metadata": {},
   "outputs": [
    {
     "name": "stdout",
     "output_type": "stream",
     "text": [
      "Wrote 81 records for SLOWER\n",
      "Wrote 81 records for REFERENCE\n",
      "Wrote 81 records for FASTER\n",
      "Wrote 81 records for SDG\n"
     ]
    },
    {
     "data": {
      "text/plain": [
       "True"
      ]
     },
     "execution_count": 100,
     "metadata": {},
     "output_type": "execute_result"
    }
   ],
   "source": [
    "clean.bmgf_countries()"
   ]
  },
  {
   "cell_type": "code",
   "execution_count": 70,
   "metadata": {},
   "outputs": [],
   "source": [
    "us = locations.un_subregion_names()"
   ]
  },
  {
   "cell_type": "code",
   "execution_count": 68,
   "metadata": {},
   "outputs": [],
   "source": [
    "b = locations.bmgf_location_names()"
   ]
  },
  {
   "cell_type": "code",
   "execution_count": 87,
   "metadata": {},
   "outputs": [
    {
     "data": {
      "text/plain": [
       "set()"
      ]
     },
     "execution_count": 87,
     "metadata": {},
     "output_type": "execute_result"
    }
   ],
   "source": [
    "set(ur).intersection(set(wn))"
   ]
  },
  {
   "cell_type": "code",
   "execution_count": null,
   "metadata": {},
   "outputs": [],
   "source": []
  }
 ],
 "metadata": {
  "kernelspec": {
   "display_name": "Python 3",
   "language": "python",
   "name": "python3"
  },
  "language_info": {
   "codemirror_mode": {
    "name": "ipython",
    "version": 3
   },
   "file_extension": ".py",
   "mimetype": "text/x-python",
   "name": "python",
   "nbconvert_exporter": "python",
   "pygments_lexer": "ipython3",
   "version": "3.8.5"
  }
 },
 "nbformat": 4,
 "nbformat_minor": 4
}
