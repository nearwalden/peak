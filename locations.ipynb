{
 "cells": [
  {
   "cell_type": "code",
   "execution_count": 1,
   "metadata": {},
   "outputs": [],
   "source": [
    "import importlib"
   ]
  },
  {
   "cell_type": "code",
   "execution_count": 2,
   "metadata": {},
   "outputs": [],
   "source": [
    "import locations"
   ]
  },
  {
   "cell_type": "code",
   "execution_count": 88,
   "metadata": {},
   "outputs": [],
   "source": [
    "import clean"
   ]
  },
  {
   "cell_type": "code",
   "execution_count": 4,
   "metadata": {},
   "outputs": [],
   "source": [
    "import files"
   ]
  },
  {
   "cell_type": "code",
   "execution_count": 5,
   "metadata": {},
   "outputs": [],
   "source": [
    "import analyze"
   ]
  },
  {
   "cell_type": "code",
   "execution_count": 6,
   "metadata": {},
   "outputs": [],
   "source": [
    "import pandas as p"
   ]
  },
  {
   "cell_type": "code",
   "execution_count": 174,
   "metadata": {},
   "outputs": [
    {
     "data": {
      "text/plain": [
       "<module 'clean' from '/mnt/c/Users/nearw/gitcode/peak/clean.py'>"
      ]
     },
     "execution_count": 174,
     "metadata": {},
     "output_type": "execute_result"
    }
   ],
   "source": [
    "importlib.reload(clean)"
   ]
  },
  {
   "cell_type": "code",
   "execution_count": 175,
   "metadata": {},
   "outputs": [
    {
     "name": "stdout",
     "output_type": "stream",
     "text": [
      "Wrote 81 records for 1\n",
      "Wrote 81 records for 2\n",
      "Wrote 81 records for 3\n",
      "Wrote 81 records for 4\n",
      "Wrote 81 records for 5\n"
     ]
    },
    {
     "data": {
      "text/plain": [
       "True"
      ]
     },
     "execution_count": 175,
     "metadata": {},
     "output_type": "execute_result"
    }
   ],
   "source": [
    "clean.witt_countries()"
   ]
  },
  {
   "cell_type": "code",
   "execution_count": 92,
   "metadata": {},
   "outputs": [],
   "source": [
    "a = analyze.merge_bmgf_un()"
   ]
  },
  {
   "cell_type": "code",
   "execution_count": 179,
   "metadata": {},
   "outputs": [],
   "source": [
    "analyze.compare_all_country('United States of America')"
   ]
  },
  {
   "cell_type": "code",
   "execution_count": 180,
   "metadata": {},
   "outputs": [
    {
     "data": {
      "text/html": [
       "<div>\n",
       "<style scoped>\n",
       "    .dataframe tbody tr th:only-of-type {\n",
       "        vertical-align: middle;\n",
       "    }\n",
       "\n",
       "    .dataframe tbody tr th {\n",
       "        vertical-align: top;\n",
       "    }\n",
       "\n",
       "    .dataframe thead th {\n",
       "        text-align: right;\n",
       "    }\n",
       "</style>\n",
       "<table border=\"1\" class=\"dataframe\">\n",
       "  <thead>\n",
       "    <tr style=\"text-align: right;\">\n",
       "      <th></th>\n",
       "      <th>peak</th>\n",
       "      <th>peak_year</th>\n",
       "      <th>manyears</th>\n",
       "      <th>mean</th>\n",
       "    </tr>\n",
       "  </thead>\n",
       "  <tbody>\n",
       "    <tr>\n",
       "      <th>BMGF-SLOWER</th>\n",
       "      <td>3.740262e+08</td>\n",
       "      <td>2074</td>\n",
       "      <td>29.494797</td>\n",
       "      <td>3.641333e+08</td>\n",
       "    </tr>\n",
       "    <tr>\n",
       "      <th>BMGF-REFERENCE</th>\n",
       "      <td>3.637478e+08</td>\n",
       "      <td>2062</td>\n",
       "      <td>28.717753</td>\n",
       "      <td>3.545402e+08</td>\n",
       "    </tr>\n",
       "    <tr>\n",
       "      <th>BMGF-FASTER</th>\n",
       "      <td>3.562721e+08</td>\n",
       "      <td>2044</td>\n",
       "      <td>27.656242</td>\n",
       "      <td>3.414351e+08</td>\n",
       "    </tr>\n",
       "    <tr>\n",
       "      <th>BMGF-SDG</th>\n",
       "      <td>3.543490e+08</td>\n",
       "      <td>2042</td>\n",
       "      <td>27.422304</td>\n",
       "      <td>3.385470e+08</td>\n",
       "    </tr>\n",
       "    <tr>\n",
       "      <th>UN-high</th>\n",
       "      <td>6.002120e+08</td>\n",
       "      <td>2100</td>\n",
       "      <td>36.502430</td>\n",
       "      <td>4.506473e+08</td>\n",
       "    </tr>\n",
       "    <tr>\n",
       "      <th>UN-medium</th>\n",
       "      <td>4.338540e+08</td>\n",
       "      <td>2100</td>\n",
       "      <td>31.524601</td>\n",
       "      <td>3.891926e+08</td>\n",
       "    </tr>\n",
       "    <tr>\n",
       "      <th>UN-low</th>\n",
       "      <td>3.487850e+08</td>\n",
       "      <td>2047</td>\n",
       "      <td>27.292357</td>\n",
       "      <td>3.369427e+08</td>\n",
       "    </tr>\n",
       "    <tr>\n",
       "      <th>Witt-1</th>\n",
       "      <td>3.904709e+08</td>\n",
       "      <td>2090</td>\n",
       "      <td>30.213078</td>\n",
       "      <td>3.730010e+08</td>\n",
       "    </tr>\n",
       "    <tr>\n",
       "      <th>Witt-2</th>\n",
       "      <td>4.881185e+08</td>\n",
       "      <td>2100</td>\n",
       "      <td>33.379288</td>\n",
       "      <td>4.120900e+08</td>\n",
       "    </tr>\n",
       "    <tr>\n",
       "      <th>Witt-3</th>\n",
       "      <td>4.908471e+08</td>\n",
       "      <td>2100</td>\n",
       "      <td>32.553981</td>\n",
       "      <td>4.019010e+08</td>\n",
       "    </tr>\n",
       "    <tr>\n",
       "      <th>Witt-4</th>\n",
       "      <td>3.770708e+08</td>\n",
       "      <td>2081</td>\n",
       "      <td>29.550678</td>\n",
       "      <td>3.648232e+08</td>\n",
       "    </tr>\n",
       "    <tr>\n",
       "      <th>Witt-5</th>\n",
       "      <td>4.846398e+08</td>\n",
       "      <td>2100</td>\n",
       "      <td>33.929302</td>\n",
       "      <td>4.188803e+08</td>\n",
       "    </tr>\n",
       "  </tbody>\n",
       "</table>\n",
       "</div>"
      ],
      "text/plain": [
       "                        peak  peak_year   manyears          mean\n",
       "BMGF-SLOWER     3.740262e+08       2074  29.494797  3.641333e+08\n",
       "BMGF-REFERENCE  3.637478e+08       2062  28.717753  3.545402e+08\n",
       "BMGF-FASTER     3.562721e+08       2044  27.656242  3.414351e+08\n",
       "BMGF-SDG        3.543490e+08       2042  27.422304  3.385470e+08\n",
       "UN-high         6.002120e+08       2100  36.502430  4.506473e+08\n",
       "UN-medium       4.338540e+08       2100  31.524601  3.891926e+08\n",
       "UN-low          3.487850e+08       2047  27.292357  3.369427e+08\n",
       "Witt-1          3.904709e+08       2090  30.213078  3.730010e+08\n",
       "Witt-2          4.881185e+08       2100  33.379288  4.120900e+08\n",
       "Witt-3          4.908471e+08       2100  32.553981  4.019010e+08\n",
       "Witt-4          3.770708e+08       2081  29.550678  3.648232e+08\n",
       "Witt-5          4.846398e+08       2100  33.929302  4.188803e+08"
      ]
     },
     "execution_count": 180,
     "metadata": {},
     "output_type": "execute_result"
    }
   ],
   "source": [
    "a"
   ]
  },
  {
   "cell_type": "code",
   "execution_count": 100,
   "metadata": {},
   "outputs": [
    {
     "name": "stdout",
     "output_type": "stream",
     "text": [
      "Wrote 81 records for SLOWER\n",
      "Wrote 81 records for REFERENCE\n",
      "Wrote 81 records for FASTER\n",
      "Wrote 81 records for SDG\n"
     ]
    },
    {
     "data": {
      "text/plain": [
       "True"
      ]
     },
     "execution_count": 100,
     "metadata": {},
     "output_type": "execute_result"
    }
   ],
   "source": [
    "clean.bmgf_countries()"
   ]
  },
  {
   "cell_type": "code",
   "execution_count": 70,
   "metadata": {},
   "outputs": [],
   "source": [
    "us = locations.un_subregion_names()"
   ]
  },
  {
   "cell_type": "code",
   "execution_count": 68,
   "metadata": {},
   "outputs": [],
   "source": [
    "b = locations.bmgf_location_names()"
   ]
  },
  {
   "cell_type": "code",
   "execution_count": 87,
   "metadata": {},
   "outputs": [
    {
     "data": {
      "text/plain": [
       "set()"
      ]
     },
     "execution_count": 87,
     "metadata": {},
     "output_type": "execute_result"
    }
   ],
   "source": [
    "set(ur).intersection(set(wn))"
   ]
  },
  {
   "cell_type": "code",
   "execution_count": null,
   "metadata": {},
   "outputs": [],
   "source": []
  }
 ],
 "metadata": {
  "kernelspec": {
   "display_name": "Python 3",
   "language": "python",
   "name": "python3"
  },
  "language_info": {
   "codemirror_mode": {
    "name": "ipython",
    "version": 3
   },
   "file_extension": ".py",
   "mimetype": "text/x-python",
   "name": "python",
   "nbconvert_exporter": "python",
   "pygments_lexer": "ipython3",
   "version": "3.8.5"
  }
 },
 "nbformat": 4,
 "nbformat_minor": 4
}
