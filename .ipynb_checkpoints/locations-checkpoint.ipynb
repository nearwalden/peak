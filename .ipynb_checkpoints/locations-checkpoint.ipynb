{
 "cells": [
  {
   "cell_type": "code",
   "execution_count": 1,
   "metadata": {},
   "outputs": [],
   "source": [
    "import importlib"
   ]
  },
  {
   "cell_type": "code",
   "execution_count": 2,
   "metadata": {},
   "outputs": [],
   "source": [
    "import locations"
   ]
  },
  {
   "cell_type": "code",
   "execution_count": 88,
   "metadata": {},
   "outputs": [],
   "source": [
    "import clean"
   ]
  },
  {
   "cell_type": "code",
   "execution_count": 4,
   "metadata": {},
   "outputs": [],
   "source": [
    "import files"
   ]
  },
  {
   "cell_type": "code",
   "execution_count": 5,
   "metadata": {},
   "outputs": [],
   "source": [
    "import analyze"
   ]
  },
  {
   "cell_type": "code",
   "execution_count": 6,
   "metadata": {},
   "outputs": [],
   "source": [
    "import pandas as p"
   ]
  },
  {
   "cell_type": "code",
   "execution_count": 90,
   "metadata": {},
   "outputs": [
    {
     "data": {
      "text/plain": [
       "<module 'clean' from '/mnt/c/Users/nearw/gitcode/peak/clean.py'>"
      ]
     },
     "execution_count": 90,
     "metadata": {},
     "output_type": "execute_result"
    }
   ],
   "source": [
    "importlib.reload(clean)"
   ]
  },
  {
   "cell_type": "code",
   "execution_count": 17,
   "metadata": {},
   "outputs": [
    {
     "name": "stdout",
     "output_type": "stream",
     "text": [
      "Wrote 81 records for 1\n",
      "Wrote 81 records for 2\n",
      "Wrote 81 records for 3\n",
      "Wrote 81 records for 4\n",
      "Wrote 81 records for 5\n"
     ]
    },
    {
     "data": {
      "text/plain": [
       "True"
      ]
     },
     "execution_count": 17,
     "metadata": {},
     "output_type": "execute_result"
    }
   ],
   "source": [
    "clean.witt_global()"
   ]
  },
  {
   "cell_type": "code",
   "execution_count": 92,
   "metadata": {},
   "outputs": [],
   "source": [
    "a = analyze.merge_bmgf_un()"
   ]
  },
  {
   "cell_type": "code",
   "execution_count": 23,
   "metadata": {},
   "outputs": [],
   "source": [
    "a = analyze.compare_all()"
   ]
  },
  {
   "cell_type": "code",
   "execution_count": 24,
   "metadata": {},
   "outputs": [
    {
     "data": {
      "text/html": [
       "<div>\n",
       "<style scoped>\n",
       "    .dataframe tbody tr th:only-of-type {\n",
       "        vertical-align: middle;\n",
       "    }\n",
       "\n",
       "    .dataframe tbody tr th {\n",
       "        vertical-align: top;\n",
       "    }\n",
       "\n",
       "    .dataframe thead th {\n",
       "        text-align: right;\n",
       "    }\n",
       "</style>\n",
       "<table border=\"1\" class=\"dataframe\">\n",
       "  <thead>\n",
       "    <tr style=\"text-align: right;\">\n",
       "      <th></th>\n",
       "      <th>peak</th>\n",
       "      <th>peak_year</th>\n",
       "      <th>manyears</th>\n",
       "      <th>mean</th>\n",
       "    </tr>\n",
       "  </thead>\n",
       "  <tbody>\n",
       "    <tr>\n",
       "      <th>BMGF-SLOWER</th>\n",
       "      <td>1.358034e+10</td>\n",
       "      <td>2100</td>\n",
       "      <td>867.904351</td>\n",
       "      <td>1.071487e+10</td>\n",
       "    </tr>\n",
       "    <tr>\n",
       "      <th>BMGF-REFERENCE</th>\n",
       "      <td>9.732923e+09</td>\n",
       "      <td>2064</td>\n",
       "      <td>747.605677</td>\n",
       "      <td>9.229700e+09</td>\n",
       "    </tr>\n",
       "    <tr>\n",
       "      <th>BMGF-FASTER</th>\n",
       "      <td>9.315209e+09</td>\n",
       "      <td>2055</td>\n",
       "      <td>709.511864</td>\n",
       "      <td>8.759406e+09</td>\n",
       "    </tr>\n",
       "    <tr>\n",
       "      <th>BMGF-SDG</th>\n",
       "      <td>8.982655e+09</td>\n",
       "      <td>2050</td>\n",
       "      <td>677.098450</td>\n",
       "      <td>8.359240e+09</td>\n",
       "    </tr>\n",
       "    <tr>\n",
       "      <th>UN-high</th>\n",
       "      <td>1.560037e+10</td>\n",
       "      <td>2100</td>\n",
       "      <td>938.754677</td>\n",
       "      <td>1.158956e+10</td>\n",
       "    </tr>\n",
       "    <tr>\n",
       "      <th>UN-medium</th>\n",
       "      <td>1.087539e+10</td>\n",
       "      <td>2100</td>\n",
       "      <td>799.098889</td>\n",
       "      <td>9.865418e+09</td>\n",
       "    </tr>\n",
       "    <tr>\n",
       "      <th>UN-low</th>\n",
       "      <td>8.923228e+09</td>\n",
       "      <td>2054</td>\n",
       "      <td>681.666497</td>\n",
       "      <td>8.415636e+09</td>\n",
       "    </tr>\n",
       "    <tr>\n",
       "      <th>Witt-1</th>\n",
       "      <td>8.628447e+09</td>\n",
       "      <td>2055</td>\n",
       "      <td>664.987443</td>\n",
       "      <td>8.209722e+09</td>\n",
       "    </tr>\n",
       "    <tr>\n",
       "      <th>Witt-2</th>\n",
       "      <td>9.712457e+09</td>\n",
       "      <td>2073</td>\n",
       "      <td>747.128590</td>\n",
       "      <td>9.223810e+09</td>\n",
       "    </tr>\n",
       "    <tr>\n",
       "      <th>Witt-3</th>\n",
       "      <td>1.357340e+10</td>\n",
       "      <td>2100</td>\n",
       "      <td>884.404289</td>\n",
       "      <td>1.091857e+10</td>\n",
       "    </tr>\n",
       "    <tr>\n",
       "      <th>Witt-4</th>\n",
       "      <td>9.873400e+09</td>\n",
       "      <td>2080</td>\n",
       "      <td>755.286958</td>\n",
       "      <td>9.324530e+09</td>\n",
       "    </tr>\n",
       "    <tr>\n",
       "      <th>Witt-5</th>\n",
       "      <td>8.629870e+09</td>\n",
       "      <td>2055</td>\n",
       "      <td>665.443843</td>\n",
       "      <td>8.215356e+09</td>\n",
       "    </tr>\n",
       "  </tbody>\n",
       "</table>\n",
       "</div>"
      ],
      "text/plain": [
       "                        peak  peak_year    manyears          mean\n",
       "BMGF-SLOWER     1.358034e+10       2100  867.904351  1.071487e+10\n",
       "BMGF-REFERENCE  9.732923e+09       2064  747.605677  9.229700e+09\n",
       "BMGF-FASTER     9.315209e+09       2055  709.511864  8.759406e+09\n",
       "BMGF-SDG        8.982655e+09       2050  677.098450  8.359240e+09\n",
       "UN-high         1.560037e+10       2100  938.754677  1.158956e+10\n",
       "UN-medium       1.087539e+10       2100  799.098889  9.865418e+09\n",
       "UN-low          8.923228e+09       2054  681.666497  8.415636e+09\n",
       "Witt-1          8.628447e+09       2055  664.987443  8.209722e+09\n",
       "Witt-2          9.712457e+09       2073  747.128590  9.223810e+09\n",
       "Witt-3          1.357340e+10       2100  884.404289  1.091857e+10\n",
       "Witt-4          9.873400e+09       2080  755.286958  9.324530e+09\n",
       "Witt-5          8.629870e+09       2055  665.443843  8.215356e+09"
      ]
     },
     "execution_count": 24,
     "metadata": {},
     "output_type": "execute_result"
    }
   ],
   "source": [
    "a"
   ]
  },
  {
   "cell_type": "code",
   "execution_count": 91,
   "metadata": {},
   "outputs": [
    {
     "ename": "AttributeError",
     "evalue": "module 'clean' has no attribute 'bmgf'",
     "output_type": "error",
     "traceback": [
      "\u001b[0;31m---------------------------------------------------------------------------\u001b[0m",
      "\u001b[0;31mAttributeError\u001b[0m                            Traceback (most recent call last)",
      "\u001b[0;32m<ipython-input-91-48bdcae9fca1>\u001b[0m in \u001b[0;36m<module>\u001b[0;34m\u001b[0m\n\u001b[0;32m----> 1\u001b[0;31m \u001b[0mclean\u001b[0m\u001b[0;34m.\u001b[0m\u001b[0mbmgf\u001b[0m\u001b[0;34m.\u001b[0m\u001b[0mcountries\u001b[0m\u001b[0;34m(\u001b[0m\u001b[0;34m)\u001b[0m\u001b[0;34m\u001b[0m\u001b[0;34m\u001b[0m\u001b[0m\n\u001b[0m",
      "\u001b[0;31mAttributeError\u001b[0m: module 'clean' has no attribute 'bmgf'"
     ]
    }
   ],
   "source": []
  },
  {
   "cell_type": "code",
   "execution_count": 55,
   "metadata": {},
   "outputs": [],
   "source": [
    "ur = locations.un_region_names()"
   ]
  },
  {
   "cell_type": "code",
   "execution_count": 70,
   "metadata": {},
   "outputs": [],
   "source": [
    "us = locations.un_subregion_names()"
   ]
  },
  {
   "cell_type": "code",
   "execution_count": 68,
   "metadata": {},
   "outputs": [],
   "source": [
    "b = locations.bmgf_location_names()"
   ]
  },
  {
   "cell_type": "code",
   "execution_count": 87,
   "metadata": {},
   "outputs": [
    {
     "data": {
      "text/plain": [
       "set()"
      ]
     },
     "execution_count": 87,
     "metadata": {},
     "output_type": "execute_result"
    }
   ],
   "source": [
    "set(ur).intersection(set(wn))"
   ]
  },
  {
   "cell_type": "code",
   "execution_count": 85,
   "metadata": {},
   "outputs": [
    {
     "data": {
      "text/plain": [
       "array(['Global', 'Central Europe, Eastern Europe, and Central Asia',\n",
       "       'Central Asia', 'Central Europe', 'Eastern Europe', 'High-income',\n",
       "       'Australasia', 'High-income Asia Pacific',\n",
       "       'High-income North America', 'Southern Latin America',\n",
       "       'Western Europe', 'Latin America and Caribbean',\n",
       "       'Andean Latin America', 'Caribbean', 'Central Latin America',\n",
       "       'Tropical Latin America', 'North Africa and Middle East',\n",
       "       'South Asia', 'Southeast Asia, East Asia, and Oceania',\n",
       "       'East Asia', 'Oceania', 'Southeast Asia', 'Sub-Saharan Africa',\n",
       "       'Central Sub-Saharan Africa', 'Eastern Sub-Saharan Africa',\n",
       "       'Southern Sub-Saharan Africa', 'Western Sub-Saharan Africa',\n",
       "       'Armenia', 'Azerbaijan', 'Georgia', 'Kazakhstan', 'Kyrgyzstan',\n",
       "       'Mongolia', 'Tajikistan', 'Turkmenistan', 'Uzbekistan', 'Albania',\n",
       "       'Bosnia and Herzegovina', 'Bulgaria', 'Croatia', 'Czechia',\n",
       "       'Hungary', 'North Macedonia', 'Montenegro', 'Poland', 'Romania',\n",
       "       'Serbia', 'Slovakia', 'Slovenia', 'Belarus', 'Estonia', 'Latvia',\n",
       "       'Lithuania', 'Republic of Moldova', 'Russian Federation',\n",
       "       'Ukraine', 'Australia', 'New Zealand', 'Brunei Darussalam',\n",
       "       'Japan', 'Republic of Korea', 'Singapore', 'Canada', 'Greenland',\n",
       "       'United States of America', 'Argentina', 'Chile', 'Uruguay',\n",
       "       'Andorra', 'Austria', 'Belgium', 'Cyprus', 'Denmark', 'Finland',\n",
       "       'France', 'Germany', 'Greece', 'Iceland', 'Ireland', 'Israel',\n",
       "       'Italy', 'Luxembourg', 'Malta', 'Netherlands', 'Norway',\n",
       "       'Portugal', 'Spain', 'Sweden', 'Switzerland', 'United Kingdom',\n",
       "       'Bolivia (Plurinational State of)', 'Ecuador', 'Peru',\n",
       "       'Antigua and Barbuda', 'Bahamas', 'Barbados', 'Belize', 'Bermuda',\n",
       "       'Cuba', 'Dominica', 'Dominican Republic', 'Grenada', 'Guyana',\n",
       "       'Haiti', 'Jamaica', 'Puerto Rico', 'Saint Lucia',\n",
       "       'Saint Vincent and the Grenadines', 'Suriname',\n",
       "       'Trinidad and Tobago', 'United States Virgin Islands', 'Colombia',\n",
       "       'Costa Rica', 'El Salvador', 'Guatemala', 'Honduras', 'Mexico',\n",
       "       'Nicaragua', 'Panama', 'Venezuela (Bolivarian Republic of)',\n",
       "       'Brazil', 'Paraguay', 'Afghanistan', 'Algeria', 'Bahrain', 'Egypt',\n",
       "       'Iran (Islamic Republic of)', 'Iraq', 'Jordan', 'Kuwait',\n",
       "       'Lebanon', 'Libya', 'Morocco', 'Palestine', 'Oman', 'Qatar',\n",
       "       'Saudi Arabia', 'Sudan', 'Syrian Arab Republic', 'Tunisia',\n",
       "       'Turkey', 'United Arab Emirates', 'Yemen', 'Bangladesh', 'Bhutan',\n",
       "       'India', 'Nepal', 'Pakistan', 'China',\n",
       "       \"Democratic People's Republic of Korea\",\n",
       "       'Taiwan (Province of China)', 'American Samoa',\n",
       "       'Micronesia (Federated States of)', 'Fiji', 'Guam', 'Kiribati',\n",
       "       'Marshall Islands', 'Northern Mariana Islands', 'Papua New Guinea',\n",
       "       'Samoa', 'Solomon Islands', 'Tonga', 'Vanuatu', 'Cambodia',\n",
       "       'Indonesia', \"Lao People's Democratic Republic\", 'Malaysia',\n",
       "       'Maldives', 'Mauritius', 'Myanmar', 'Philippines', 'Sri Lanka',\n",
       "       'Seychelles', 'Thailand', 'Timor-Leste', 'Viet Nam', 'Angola',\n",
       "       'Central African Republic', 'Congo',\n",
       "       'Democratic Republic of the Congo', 'Equatorial Guinea', 'Gabon',\n",
       "       'Burundi', 'Comoros', 'Djibouti', 'Eritrea', 'Ethiopia', 'Kenya',\n",
       "       'Madagascar', 'Malawi', 'Mozambique', 'Rwanda', 'Somalia',\n",
       "       'South Sudan', 'United Republic of Tanzania', 'Uganda', 'Zambia',\n",
       "       'Botswana', 'Lesotho', 'Namibia', 'South Africa', 'Eswatini',\n",
       "       'Zimbabwe', 'Benin', 'Burkina Faso', 'Cameroon', 'Cabo Verde',\n",
       "       'Chad', \"Côte d'Ivoire\", 'Gambia', 'Ghana', 'Guinea',\n",
       "       'Guinea-Bissau', 'Liberia', 'Mali', 'Mauritania', 'Niger',\n",
       "       'Nigeria', 'Sao Tome and Principe', 'Senegal', 'Sierra Leone',\n",
       "       'Togo'], dtype=object)"
      ]
     },
     "execution_count": 85,
     "metadata": {},
     "output_type": "execute_result"
    }
   ],
   "source": [
    "b"
   ]
  },
  {
   "cell_type": "code",
   "execution_count": null,
   "metadata": {},
   "outputs": [],
   "source": []
  }
 ],
 "metadata": {
  "kernelspec": {
   "display_name": "Python 3",
   "language": "python",
   "name": "python3"
  },
  "language_info": {
   "codemirror_mode": {
    "name": "ipython",
    "version": 3
   },
   "file_extension": ".py",
   "mimetype": "text/x-python",
   "name": "python",
   "nbconvert_exporter": "python",
   "pygments_lexer": "ipython3",
   "version": "3.8.5"
  }
 },
 "nbformat": 4,
 "nbformat_minor": 4
}
