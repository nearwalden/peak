{
 "cells": [
  {
   "cell_type": "code",
   "execution_count": 1,
   "metadata": {},
   "outputs": [],
   "source": [
    "import importlib"
   ]
  },
  {
   "cell_type": "code",
   "execution_count": 8,
   "metadata": {},
   "outputs": [
    {
     "name": "stdout",
     "output_type": "stream",
     "text": [
      "<Task: location_compare>\n"
     ]
    }
   ],
   "source": [
    "import locations"
   ]
  },
  {
   "cell_type": "code",
   "execution_count": 23,
   "metadata": {},
   "outputs": [
    {
     "name": "stdout",
     "output_type": "stream",
     "text": [
      "<Task: bmgf_locations>\n",
      "<Task: location_compare>\n"
     ]
    },
    {
     "data": {
      "text/plain": [
       "<module 'locations' from '/Users/dd/gitcode/peak/locations.py'>"
      ]
     },
     "execution_count": 23,
     "metadata": {},
     "output_type": "execute_result"
    }
   ],
   "source": [
    "importlib.reload(locations)"
   ]
  },
  {
   "cell_type": "code",
   "execution_count": 24,
   "metadata": {},
   "outputs": [
    {
     "name": "stdout",
     "output_type": "stream",
     "text": [
      "[2021-01-18 21:43:09-0500] INFO - prefect.FlowRunner | Beginning Flow run for 'pop_locations'\n",
      "[2021-01-18 21:43:09-0500] INFO - prefect.TaskRunner | Task 'bmgf_locations': Starting task run...\n",
      "[2021-01-18 21:43:09-0500] INFO - prefect.TaskRunner | Task 'bmgf_locations': Finished task run for task with final state: 'Success'\n",
      "[2021-01-18 21:43:09-0500] INFO - prefect.TaskRunner | Task 'GetItem': Starting task run...\n",
      "[2021-01-18 21:43:09-0500] ERROR - prefect.TaskRunner | Unexpected error: KeyError('location_name')\n",
      "Traceback (most recent call last):\n",
      "  File \"/usr/local/lib/python3.7/site-packages/pandas/core/indexes/base.py\", line 2891, in get_loc\n",
      "    return self._engine.get_loc(casted_key)\n",
      "  File \"pandas/_libs/index.pyx\", line 70, in pandas._libs.index.IndexEngine.get_loc\n",
      "  File \"pandas/_libs/index.pyx\", line 98, in pandas._libs.index.IndexEngine.get_loc\n",
      "  File \"pandas/_libs/index_class_helper.pxi\", line 93, in pandas._libs.index.Int64Engine._check_type\n",
      "KeyError: 'location_name'\n",
      "\n",
      "The above exception was the direct cause of the following exception:\n",
      "\n",
      "Traceback (most recent call last):\n",
      "  File \"/Users/dd/Library/Python/3.7/lib/python/site-packages/prefect/engine/runner.py\", line 48, in inner\n",
      "    new_state = method(self, state, *args, **kwargs)\n",
      "  File \"/Users/dd/Library/Python/3.7/lib/python/site-packages/prefect/engine/task_runner.py\", line 860, in get_task_run_state\n",
      "    logger=self.logger,\n",
      "  File \"/Users/dd/Library/Python/3.7/lib/python/site-packages/prefect/utilities/executors.py\", line 298, in run_task_with_timeout\n",
      "    return task.run(*args, **kwargs)  # type: ignore\n",
      "  File \"/Users/dd/Library/Python/3.7/lib/python/site-packages/prefect/utilities/tasks.py\", line 449, in method\n",
      "    return run_method(self, *args, **kwargs)\n",
      "  File \"/Users/dd/Library/Python/3.7/lib/python/site-packages/prefect/tasks/core/operators.py\", line 38, in run\n",
      "    return task_result[key]\n",
      "  File \"/usr/local/lib/python3.7/site-packages/pandas/core/series.py\", line 882, in __getitem__\n",
      "    return self._get_value(key)\n",
      "  File \"/usr/local/lib/python3.7/site-packages/pandas/core/series.py\", line 991, in _get_value\n",
      "    loc = self.index.get_loc(label)\n",
      "  File \"/usr/local/lib/python3.7/site-packages/pandas/core/indexes/base.py\", line 2893, in get_loc\n",
      "    raise KeyError(key) from err\n",
      "KeyError: 'location_name'\n",
      "[2021-01-18 21:43:09-0500] INFO - prefect.TaskRunner | Task 'GetItem': Finished task run for task with final state: 'Failed'\n",
      "[2021-01-18 21:43:09-0500] INFO - prefect.TaskRunner | Task 'un_locations': Starting task run...\n",
      "[2021-01-18 21:43:09-0500] INFO - prefect.TaskRunner | Task 'un_locations': Finished task run for task with final state: 'Success'\n",
      "[2021-01-18 21:43:09-0500] INFO - prefect.TaskRunner | Task 'GetItem': Starting task run...\n",
      "[2021-01-18 21:43:09-0500] ERROR - prefect.TaskRunner | Unexpected error: KeyError('Region')\n",
      "Traceback (most recent call last):\n",
      "  File \"/usr/local/lib/python3.7/site-packages/pandas/core/indexes/base.py\", line 2891, in get_loc\n",
      "    return self._engine.get_loc(casted_key)\n",
      "  File \"pandas/_libs/index.pyx\", line 70, in pandas._libs.index.IndexEngine.get_loc\n",
      "  File \"pandas/_libs/index.pyx\", line 101, in pandas._libs.index.IndexEngine.get_loc\n",
      "  File \"pandas/_libs/hashtable_class_helper.pxi\", line 1675, in pandas._libs.hashtable.PyObjectHashTable.get_item\n",
      "  File \"pandas/_libs/hashtable_class_helper.pxi\", line 1683, in pandas._libs.hashtable.PyObjectHashTable.get_item\n",
      "KeyError: 'Region'\n",
      "\n",
      "The above exception was the direct cause of the following exception:\n",
      "\n",
      "Traceback (most recent call last):\n",
      "  File \"/Users/dd/Library/Python/3.7/lib/python/site-packages/prefect/engine/runner.py\", line 48, in inner\n",
      "    new_state = method(self, state, *args, **kwargs)\n",
      "  File \"/Users/dd/Library/Python/3.7/lib/python/site-packages/prefect/engine/task_runner.py\", line 860, in get_task_run_state\n",
      "    logger=self.logger,\n",
      "  File \"/Users/dd/Library/Python/3.7/lib/python/site-packages/prefect/utilities/executors.py\", line 298, in run_task_with_timeout\n",
      "    return task.run(*args, **kwargs)  # type: ignore\n",
      "  File \"/Users/dd/Library/Python/3.7/lib/python/site-packages/prefect/utilities/tasks.py\", line 449, in method\n",
      "    return run_method(self, *args, **kwargs)\n",
      "  File \"/Users/dd/Library/Python/3.7/lib/python/site-packages/prefect/tasks/core/operators.py\", line 38, in run\n",
      "    return task_result[key]\n",
      "  File \"/usr/local/lib/python3.7/site-packages/pandas/core/frame.py\", line 2902, in __getitem__\n",
      "    indexer = self.columns.get_loc(key)\n",
      "  File \"/usr/local/lib/python3.7/site-packages/pandas/core/indexes/base.py\", line 2893, in get_loc\n",
      "    raise KeyError(key) from err\n",
      "KeyError: 'Region'\n",
      "[2021-01-18 21:43:09-0500] INFO - prefect.TaskRunner | Task 'GetItem': Finished task run for task with final state: 'Failed'\n",
      "[2021-01-18 21:43:09-0500] INFO - prefect.TaskRunner | Task 'location_compare': Starting task run...\n",
      "[2021-01-18 21:43:09-0500] INFO - prefect.TaskRunner | Task 'location_compare': Finished task run for task with final state: 'TriggerFailed'\n",
      "[2021-01-18 21:43:09-0500] INFO - prefect.FlowRunner | Flow run FAILED: some reference tasks failed.\n"
     ]
    }
   ],
   "source": [
    "a = locations.test_low.run()"
   ]
  },
  {
   "cell_type": "code",
   "execution_count": 13,
   "metadata": {},
   "outputs": [
    {
     "ename": "ValueError",
     "evalue": "Could not infer an active Flow context.",
     "output_type": "error",
     "traceback": [
      "\u001b[0;31m---------------------------------------------------------------------------\u001b[0m",
      "\u001b[0;31mValueError\u001b[0m                                Traceback (most recent call last)",
      "\u001b[0;32m<ipython-input-13-2b842863fe90>\u001b[0m in \u001b[0;36m<module>\u001b[0;34m\u001b[0m\n\u001b[0;32m----> 1\u001b[0;31m \u001b[0mlocations\u001b[0m\u001b[0;34m.\u001b[0m\u001b[0mbmgf_locations\u001b[0m\u001b[0;34m(\u001b[0m\u001b[0;34m)\u001b[0m\u001b[0;34m\u001b[0m\u001b[0;34m\u001b[0m\u001b[0m\n\u001b[0m",
      "\u001b[0;32m~/Library/Python/3.7/lib/python/site-packages/prefect/core/task.py\u001b[0m in \u001b[0;36m__call__\u001b[0;34m(self, mapped, task_args, upstream_tasks, flow, *args, **kwargs)\u001b[0m\n\u001b[1;32m    596\u001b[0m         \u001b[0mnew\u001b[0m \u001b[0;34m=\u001b[0m \u001b[0mself\u001b[0m\u001b[0;34m.\u001b[0m\u001b[0mcopy\u001b[0m\u001b[0;34m(\u001b[0m\u001b[0;34m**\u001b[0m\u001b[0;34m(\u001b[0m\u001b[0mtask_args\u001b[0m \u001b[0;32mor\u001b[0m \u001b[0;34m{\u001b[0m\u001b[0;34m}\u001b[0m\u001b[0;34m)\u001b[0m\u001b[0;34m)\u001b[0m\u001b[0;34m\u001b[0m\u001b[0;34m\u001b[0m\u001b[0m\n\u001b[1;32m    597\u001b[0m         new.bind(\n\u001b[0;32m--> 598\u001b[0;31m             \u001b[0;34m*\u001b[0m\u001b[0margs\u001b[0m\u001b[0;34m,\u001b[0m \u001b[0mmapped\u001b[0m\u001b[0;34m=\u001b[0m\u001b[0mmapped\u001b[0m\u001b[0;34m,\u001b[0m \u001b[0mupstream_tasks\u001b[0m\u001b[0;34m=\u001b[0m\u001b[0mupstream_tasks\u001b[0m\u001b[0;34m,\u001b[0m \u001b[0mflow\u001b[0m\u001b[0;34m=\u001b[0m\u001b[0mflow\u001b[0m\u001b[0;34m,\u001b[0m \u001b[0;34m**\u001b[0m\u001b[0mkwargs\u001b[0m\u001b[0;34m\u001b[0m\u001b[0;34m\u001b[0m\u001b[0m\n\u001b[0m\u001b[1;32m    599\u001b[0m         )\n\u001b[1;32m    600\u001b[0m         \u001b[0;32mreturn\u001b[0m \u001b[0mnew\u001b[0m\u001b[0;34m\u001b[0m\u001b[0;34m\u001b[0m\u001b[0m\n",
      "\u001b[0;32m~/Library/Python/3.7/lib/python/site-packages/prefect/core/task.py\u001b[0m in \u001b[0;36mbind\u001b[0;34m(self, mapped, upstream_tasks, flow, *args, **kwargs)\u001b[0m\n\u001b[1;32m    648\u001b[0m         \u001b[0mflow\u001b[0m \u001b[0;34m=\u001b[0m \u001b[0mflow\u001b[0m \u001b[0;32mor\u001b[0m \u001b[0mprefect\u001b[0m\u001b[0;34m.\u001b[0m\u001b[0mcontext\u001b[0m\u001b[0;34m.\u001b[0m\u001b[0mget\u001b[0m\u001b[0;34m(\u001b[0m\u001b[0;34m\"flow\"\u001b[0m\u001b[0;34m,\u001b[0m \u001b[0;32mNone\u001b[0m\u001b[0;34m)\u001b[0m\u001b[0;34m\u001b[0m\u001b[0;34m\u001b[0m\u001b[0m\n\u001b[1;32m    649\u001b[0m         \u001b[0;32mif\u001b[0m \u001b[0;32mnot\u001b[0m \u001b[0mflow\u001b[0m\u001b[0;34m:\u001b[0m\u001b[0;34m\u001b[0m\u001b[0;34m\u001b[0m\u001b[0m\n\u001b[0;32m--> 650\u001b[0;31m             \u001b[0;32mraise\u001b[0m \u001b[0mValueError\u001b[0m\u001b[0;34m(\u001b[0m\u001b[0;34m\"Could not infer an active Flow context.\"\u001b[0m\u001b[0;34m)\u001b[0m\u001b[0;34m\u001b[0m\u001b[0;34m\u001b[0m\u001b[0m\n\u001b[0m\u001b[1;32m    651\u001b[0m \u001b[0;34m\u001b[0m\u001b[0m\n\u001b[1;32m    652\u001b[0m         self.set_dependencies(\n",
      "\u001b[0;31mValueError\u001b[0m: Could not infer an active Flow context."
     ]
    }
   ],
   "source": [
    "locations.bmgf_locations()"
   ]
  },
  {
   "cell_type": "code",
   "execution_count": null,
   "metadata": {},
   "outputs": [],
   "source": []
  }
 ],
 "metadata": {
  "kernelspec": {
   "display_name": "Python 3",
   "language": "python",
   "name": "python3"
  },
  "language_info": {
   "codemirror_mode": {
    "name": "ipython",
    "version": 3
   },
   "file_extension": ".py",
   "mimetype": "text/x-python",
   "name": "python",
   "nbconvert_exporter": "python",
   "pygments_lexer": "ipython3",
   "version": "3.7.1"
  }
 },
 "nbformat": 4,
 "nbformat_minor": 4
}
